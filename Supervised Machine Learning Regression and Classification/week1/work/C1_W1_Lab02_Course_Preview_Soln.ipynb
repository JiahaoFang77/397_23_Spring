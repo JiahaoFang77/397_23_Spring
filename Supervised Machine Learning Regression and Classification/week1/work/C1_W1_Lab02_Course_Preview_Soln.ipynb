{
 "cells": [
  {
   "cell_type": "markdown",
   "metadata": {},
   "source": [
    "# Ungraded Lab - Examples of Material that will be covered in this course\n",
    "Work in Progress"
   ]
  }
 ],
 "metadata": {
  "kernelspec": {
   "display_name": "base",
   "language": "python",
   "name": "python3"
  },
  "language_info": {
   "codemirror_mode": {
    "name": "ipython",
    "version": 3
   },
   "file_extension": ".py",
   "mimetype": "text/x-python",
   "name": "python",
   "nbconvert_exporter": "python",
   "pygments_lexer": "ipython3",
   "version": "3.9.13"
  },
  "vscode": {
   "interpreter": {
    "hash": "998867a5015262fcc1988bc5ad4b5eeedc6d703bcaf3962bcee179e9e9a208c9"
   }
  }
 },
 "nbformat": 4,
 "nbformat_minor": 5
}
